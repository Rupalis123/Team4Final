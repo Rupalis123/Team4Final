{
 "cells": [
  {
   "cell_type": "markdown",
   "id": "ranging-scientist",
   "metadata": {},
   "source": [
    "Q: How much more likely is certain preexisting conditions/symptoms to be related to high mortality? "
   ]
  },
  {
   "cell_type": "code",
   "execution_count": 1,
   "id": "double-antarctica",
   "metadata": {},
   "outputs": [],
   "source": [
    "# Dependencies \n",
    "import matplotlib.pyplot as plt\n",
    "import pandas as pd\n",
    "import numpy as np\n",
    "import os\n",
    "from sklearn import tree"
   ]
  },
  {
   "cell_type": "code",
   "execution_count": 2,
   "id": "geological-gnome",
   "metadata": {},
   "outputs": [],
   "source": [
    "df = pd.read_csv('../Data/cleaned_data.csv')"
   ]
  },
  {
   "cell_type": "code",
   "execution_count": 3,
   "id": "improved-immune",
   "metadata": {},
   "outputs": [],
   "source": [
    "df;"
   ]
  },
  {
   "cell_type": "code",
   "execution_count": 4,
   "id": "contrary-grass",
   "metadata": {},
   "outputs": [],
   "source": [
    "# list for columns \n",
    "my_list = df.columns.values.tolist()\n",
    "my_list;"
   ]
  },
  {
   "cell_type": "code",
   "execution_count": 5,
   "id": "equivalent-hardware",
   "metadata": {},
   "outputs": [],
   "source": [
    "# grabbing relevant column names that contribute to covid risk factors \n",
    "column_names = ['Mean Age','% Male','Smoking history', 'Hypertension', 'Diabetes', 'Cardiovascular Disease (incl. CAD)',\n",
    "                'Chronic obstructive lung (COPD)', 'Cancer (Any)', 'Liver Disease (any)', 'Cerebrovascular Disease',\n",
    "                'Chronic kidney/renal disease', 'Other', 'Fever (temperature ≥37·3°C)', 'Respiratory rate > 24 breaths per min',\n",
    "                'Cough', 'Shortness of Breath (dyspnoea)', 'Headache', 'Sputum (/Expectoration)', 'Myalgia (Muscle Pain)',\n",
    "                'Fatigue', 'Upper air-way congestion', 'Diarrhoea', 'Nausea or Vomiting', 'Loss of Appetite/Anorexia',\n",
    "                'Sore Throat/Stuffy Nose', 'Chills', 'Chest Pain', 'Loss of smell/taste', 'Disease Severity Asymptomatic',\n",
    "                'Mortality_bin']\n",
    "\n",
    "new_df = pd.DataFrame(df,columns=column_names)\n",
    "new_df;"
   ]
  },
  {
   "cell_type": "code",
   "execution_count": 6,
   "id": "false-fence",
   "metadata": {},
   "outputs": [],
   "source": [
    "# assigning variables for Classifier Modeling\n",
    "data = new_df.drop(\"Mortality_bin\", axis=1)\n",
    "feature_names = data.columns\n",
    "target=new_df['Mortality_bin']\n",
    "target_names=['low_risk','high_risk']"
   ]
  },
  {
   "cell_type": "code",
   "execution_count": 7,
   "id": "needed-google",
   "metadata": {},
   "outputs": [],
   "source": [
    "# split test/train data \n",
    "from sklearn.model_selection import train_test_split\n",
    "X_train, X_test, y_train, y_test = train_test_split(data, target, random_state=1)"
   ]
  },
  {
   "cell_type": "code",
   "execution_count": 8,
   "id": "enclosed-harbor",
   "metadata": {},
   "outputs": [
    {
     "data": {
      "text/plain": [
       "1.0"
      ]
     },
     "execution_count": 8,
     "metadata": {},
     "output_type": "execute_result"
    }
   ],
   "source": [
    "# Decision tree classifier returns 100% \n",
    "clf = tree.DecisionTreeClassifier()\n",
    "clf = clf.fit(X_train, y_train)  \n",
    "clf.score(X_test, y_test)"
   ]
  },
  {
   "cell_type": "code",
   "execution_count": 9,
   "id": "specific-commerce",
   "metadata": {},
   "outputs": [
    {
     "data": {
      "text/plain": [
       "1.0"
      ]
     },
     "execution_count": 9,
     "metadata": {},
     "output_type": "execute_result"
    }
   ],
   "source": [
    "# Decision random forest classifier also returns 100% \n",
    "from sklearn.ensemble import RandomForestClassifier\n",
    "rf = RandomForestClassifier(n_estimators=300)\n",
    "rf = rf.fit(X_train, y_train)\n",
    "rf.score(X_test, y_test)"
   ]
  },
  {
   "cell_type": "code",
   "execution_count": 10,
   "id": "younger-crystal",
   "metadata": {},
   "outputs": [
    {
     "data": {
      "text/plain": [
       "[(0.18604627613189922, 'Diabetes'),\n",
       " (0.07644809158305058, 'Chronic obstructive lung (COPD)'),\n",
       " (0.07398458710374614, 'Mean Age'),\n",
       " (0.0735798804823746, 'Hypertension'),\n",
       " (0.07099221758307069, 'Chronic kidney/renal disease'),\n",
       " (0.06101449014948093, 'Cardiovascular Disease (incl. CAD)'),\n",
       " (0.05410027532346016, 'Shortness of Breath (dyspnoea)'),\n",
       " (0.047544705727195116, 'Cancer (Any)'),\n",
       " (0.04352328874416994, '% Male'),\n",
       " (0.037586437615932694, 'Fever (temperature ≥37·3°C)'),\n",
       " (0.03079054699992328, 'Diarrhoea'),\n",
       " (0.03006681455487067, 'Cerebrovascular Disease'),\n",
       " (0.029076872077649404, 'Cough'),\n",
       " (0.027917956562611916, 'Respiratory rate > 24 breaths per min'),\n",
       " (0.026614877838977164, 'Fatigue'),\n",
       " (0.021115892075660204, 'Myalgia (Muscle Pain)'),\n",
       " (0.016149466846433123, 'Nausea or Vomiting'),\n",
       " (0.013695995346292721, 'Other'),\n",
       " (0.013671071164252606, 'Smoking history'),\n",
       " (0.013381623810998165, 'Headache'),\n",
       " (0.01188194192450603, 'Liver Disease (any)'),\n",
       " (0.011598723597866182, 'Sore Throat/Stuffy Nose'),\n",
       " (0.011481872867426744, 'Sputum (/Expectoration)'),\n",
       " (0.007942426290390712, 'Chest Pain'),\n",
       " (0.006411525657377225, 'Loss of Appetite/Anorexia'),\n",
       " (0.0016236840982452312, 'Disease Severity Asymptomatic'),\n",
       " (0.0009330485861387437, 'Chills'),\n",
       " (0.0007117025773397452, 'Upper air-way congestion'),\n",
       " (0.00011370667866016063, 'Loss of smell/taste')]"
      ]
     },
     "execution_count": 10,
     "metadata": {},
     "output_type": "execute_result"
    }
   ],
   "source": [
    "# looking at feature importances\n",
    "sorted(zip(rf.feature_importances_, feature_names), reverse=True) "
   ]
  },
  {
   "cell_type": "code",
   "execution_count": 11,
   "id": "pending-technical",
   "metadata": {},
   "outputs": [],
   "source": [
    "# Splitting up Underlying illness and Symptoms \n",
    "# column_names = ['Mean Age','% Male','Smoking history', 'Hypertension', 'Diabetes', 'Cardiovascular Disease (incl. CAD)',\n",
    "#                 'Chronic obstructive lung (COPD)', 'Cancer (Any)', 'Liver Disease (any)', 'Cerebrovascular Disease',\n",
    "#                 'Chronic kidney/renal disease', 'Other','Mortality_bin']\n",
    "\n",
    "# risk_df = pd.DataFrame(new_df,columns=column_names)\n",
    "# data = risk_df.drop(\"Mortality_bin\", axis=1)\n",
    "# feature_names = data.columns\n",
    "# target=risk_df['Mortality_bin']\n",
    "# target_names=['low_risk','high_risk']\n",
    "\n",
    "# from sklearn.model_selection import train_test_split\n",
    "# X_train, X_test, y_train, y_test = train_test_split(data, target, random_state=0)\n",
    "\n",
    "# clf = tree.DecisionTreeClassifier()\n",
    "# clf = clf.fit(X_train, y_train)  \n",
    "# clf.score(X_test, y_test)\n",
    "\n",
    "# from sklearn.ensemble import RandomForestClassifier\n",
    "# rf = RandomForestClassifier(n_estimators=500)\n",
    "# rf = rf.fit(X_train, y_train)\n",
    "# rf.score(X_test, y_test)\n",
    "\n",
    "# sorted(zip(rf.feature_importances_, feature_names), reverse=True)\n",
    "# Is comparable to high risk preexisting conditions on cdc website\n",
    "# DM, age, HTN, CVD, COPD, Cancer/immunocompromised are main contributors to mortality "
   ]
  },
  {
   "cell_type": "code",
   "execution_count": 12,
   "id": "biological-remark",
   "metadata": {},
   "outputs": [],
   "source": [
    "# column_names = ['Mean Age','% Male','Fever (temperature ≥37·3°C)', 'Respiratory rate > 24 breaths per min',\n",
    "#                 'Cough', 'Shortness of Breath (dyspnoea)', 'Headache', 'Sputum (/Expectoration)', 'Myalgia (Muscle Pain)',\n",
    "#                 'Fatigue', 'Upper air-way congestion', 'Diarrhoea', 'Nausea or Vomiting', 'Loss of Appetite/Anorexia',\n",
    "#                 'Sore Throat/Stuffy Nose', 'Chills', 'Chest Pain', 'Loss of smell/taste', 'Disease Severity Asymptomatic','Mortality_bin']\n",
    "\n",
    "# symptoms_df = pd.DataFrame(new_df,columns=column_names)\n",
    "\n",
    "# data = symptoms_df.drop(\"Mortality_bin\", axis=1)\n",
    "# feature_names = data.columns\n",
    "# target=symptoms_df['Mortality_bin']\n",
    "# target_names=['low_risk','high_risk']\n",
    "\n",
    "# from sklearn.model_selection import train_test_split\n",
    "# X_train, X_test, y_train, y_test = train_test_split(data, target, random_state=0)\n",
    "\n",
    "# clf = tree.DecisionTreeClassifier()\n",
    "# clf = clf.fit(X_train, y_train)  \n",
    "# clf.score(X_test, y_test)\n",
    "\n",
    "# from sklearn.ensemble import RandomForestClassifier\n",
    "# rf = RandomForestClassifier(n_estimators=500)\n",
    "# rf = rf.fit(X_train, y_train)\n",
    "# rf.score(X_test, y_test)\n",
    "\n",
    "# sorted(zip(rf.feature_importances_, feature_names), reverse=True)\n",
    "# #Age, SOB, Fever, cough, diarrhea, tachypnea are main contributors to mortality rate "
   ]
  },
  {
   "cell_type": "code",
   "execution_count": 13,
   "id": "younger-smoke",
   "metadata": {},
   "outputs": [],
   "source": [
    "# Grabbing top 6 underlying illness and symptoms and age/gender as factors based on feature importance\n",
    "column_names = ['Mean Age', '% Male','Hypertension', 'Diabetes', 'Cardiovascular Disease (incl. CAD)',\n",
    "                'Chronic obstructive lung (COPD)', 'Cancer (Any)', \n",
    "                'Chronic kidney/renal disease', 'Fever (temperature ≥37·3°C)', 'Respiratory rate > 24 breaths per min',\n",
    "                'Cough', 'Shortness of Breath (dyspnoea)','Diarrhoea', 'Fatigue',\n",
    "                'Mortality_bin']\n",
    "factors = pd.DataFrame(new_df,columns=column_names)\n",
    "factors;\n"
   ]
  },
  {
   "cell_type": "code",
   "execution_count": 14,
   "id": "touched-premium",
   "metadata": {},
   "outputs": [],
   "source": [
    "# assigning variables \n",
    "X = factors.drop('Mortality_bin', axis=1)\n",
    "y = factors['Mortality_bin']\n",
    "\n",
    "# split data\n",
    "from sklearn.model_selection import train_test_split\n",
    "X_train, X_test, y_train, y_test = train_test_split(X, y,train_size=.80, random_state=1)\n"
   ]
  },
  {
   "cell_type": "code",
   "execution_count": 15,
   "id": "accessory-nigeria",
   "metadata": {},
   "outputs": [
    {
     "data": {
      "text/plain": [
       "LogisticRegression(max_iter=300)"
      ]
     },
     "execution_count": 15,
     "metadata": {},
     "output_type": "execute_result"
    }
   ],
   "source": [
    "# importing logistic regression \n",
    "from sklearn.linear_model import LogisticRegression\n",
    "classifier = LogisticRegression(max_iter=300)\n",
    "classifier\n"
   ]
  },
  {
   "cell_type": "code",
   "execution_count": 16,
   "id": "aggressive-portfolio",
   "metadata": {},
   "outputs": [
    {
     "data": {
      "text/plain": [
       "LogisticRegression(max_iter=300)"
      ]
     },
     "execution_count": 16,
     "metadata": {},
     "output_type": "execute_result"
    }
   ],
   "source": [
    "# fit training data \n",
    "classifier.fit(X_train, y_train)"
   ]
  },
  {
   "cell_type": "code",
   "execution_count": 17,
   "id": "reported-allowance",
   "metadata": {},
   "outputs": [
    {
     "name": "stdout",
     "output_type": "stream",
     "text": [
      "Training Data Score: 0.875\n"
     ]
    }
   ],
   "source": [
    "# classifier score \n",
    "print(f\"Training Data Score: {classifier.score(X_test, y_test)}\")"
   ]
  },
  {
   "cell_type": "code",
   "execution_count": 18,
   "id": "fallen-maximum",
   "metadata": {},
   "outputs": [],
   "source": [
    "# using classifier for predictions\n",
    "predictions = classifier.predict(X_test)\n",
    "result=pd.DataFrame({\"Prediction\": predictions, \"Actual\": y_test}).head(25)\n",
    "result;"
   ]
  },
  {
   "cell_type": "code",
   "execution_count": 19,
   "id": "streaming-nylon",
   "metadata": {},
   "outputs": [
    {
     "name": "stdout",
     "output_type": "stream",
     "text": [
      "              precision    recall  f1-score   support\n",
      "\n",
      "    low risk       0.92      0.93      0.92       188\n",
      "   high risk       0.67      0.66      0.67        44\n",
      "\n",
      "    accuracy                           0.88       232\n",
      "   macro avg       0.80      0.79      0.79       232\n",
      "weighted avg       0.87      0.88      0.87       232\n",
      "\n"
     ]
    }
   ],
   "source": [
    "# printing f-score in classification report \n",
    "from sklearn.metrics import classification_report\n",
    "print(classification_report (y_test, predictions, target_names = ['low risk','high risk']))"
   ]
  },
  {
   "cell_type": "code",
   "execution_count": 20,
   "id": "democratic-diameter",
   "metadata": {},
   "outputs": [],
   "source": [
    "# printing classification report as csv file \n",
    "report = classification_report (y_test, predictions, target_names = ['low risk','high risk'],output_dict=True)\n",
    "class_report=pd.DataFrame(report).transpose()\n",
    "class_report.to_csv('../static/pltImages/classificationReport.csv')"
   ]
  },
  {
   "cell_type": "code",
   "execution_count": 21,
   "id": "numerous-munich",
   "metadata": {},
   "outputs": [
    {
     "data": {
      "text/plain": [
       "array([[174,  14],\n",
       "       [ 15,  29]])"
      ]
     },
     "execution_count": 21,
     "metadata": {},
     "output_type": "execute_result"
    }
   ],
   "source": [
    "# from sklearn import metrics\n",
    "from sklearn.metrics import confusion_matrix\n",
    "matrix = confusion_matrix(y_test, predictions, labels = [0,1])\n",
    "matrix"
   ]
  },
  {
   "cell_type": "code",
   "execution_count": 23,
   "id": "requested-alliance",
   "metadata": {},
   "outputs": [
    {
     "data": {
      "image/png": "[encoded data removed]",
      "text/plain": [
       "<Figure size 432x288 with 2 Axes>"
      ]
     },
     "metadata": {
      "needs_background": "light"
     },
     "output_type": "display_data"
    }
   ],
   "source": [
    "# confusion matrix with % break down \n",
    "import seaborn as sns\n",
    "ax = plt.subplot()\n",
    "# labels = ['Low Risk','High Risk']\n",
    "categories = ['lowrisk',' highrisk']\n",
    "sns.heatmap(matrix/np.sum(matrix), annot=True, \n",
    "            fmt='.2%', cmap='Blues', ax=ax)\n",
    "ax.set_title('Confusion matrix of Logistic Regression')\n",
    "ax.set_xlabel('Predicted')\n",
    "ax.set_ylabel('True')\n",
    "ax.xaxis.set_ticklabels(['Low Risk','High Risk']); ax.yaxis.set_ticklabels(['Low Risk','High Risk']);\n",
    "\n",
    "plt.savefig('../static/pltImages/confusionMatrix.png')\n"
   ]
  },
  {
   "cell_type": "code",
   "execution_count": null,
   "id": "knowing-privacy",
   "metadata": {},
   "outputs": [],
   "source": [
    "# confusion matrix with values \n",
    "labels = ['Low Risk','High Risk']\n",
    "data = confusion_matrix(y_test,predictions)\n",
    "data_df = pd.DataFrame(data, columns=labels, index = labels)\n",
    "data_df.index.name = 'Actual'\n",
    "data_df.columns.name = 'Predicted'\n",
    "# plt.figure(figsize = (10,7))\n",
    "sns.set(font_scale=1.4)#for label size\n",
    "sns.heatmap(data_df, cmap=\"Blues\", annot=True, fmt='g',annot_kws={\"size\": 14})# font size"
   ]
  },
  {
   "cell_type": "code",
   "execution_count": null,
   "id": "sunrise-trance",
   "metadata": {},
   "outputs": [],
   "source": []
  },
  {
   "cell_type": "code",
   "execution_count": null,
   "id": "competent-pursuit",
   "metadata": {},
   "outputs": [],
   "source": []
  },
  {
   "cell_type": "code",
   "execution_count": null,
   "id": "earlier-insertion",
   "metadata": {},
   "outputs": [],
   "source": []
  },
  {
   "cell_type": "code",
   "execution_count": null,
   "id": "whole-characterization",
   "metadata": {},
   "outputs": [],
   "source": []
  },
  {
   "cell_type": "code",
   "execution_count": null,
   "id": "documentary-aircraft",
   "metadata": {},
   "outputs": [],
   "source": []
  },
  {
   "cell_type": "code",
   "execution_count": null,
   "id": "metric-shock",
   "metadata": {},
   "outputs": [],
   "source": [
    "list(factors)"
   ]
  },
  {
   "cell_type": "code",
   "execution_count": null,
   "id": "double-delay",
   "metadata": {},
   "outputs": [],
   "source": [
    "# testing new patient data \n",
    "new_patient = [12,1,1,0,1,0,0,0,1,1,0,1,0,0]\n"
   ]
  },
  {
   "cell_type": "code",
   "execution_count": null,
   "id": "pediatric-panic",
   "metadata": {},
   "outputs": [],
   "source": [
    "data = np.array([new_patient]) \n",
    "predictions = classifier.predict(data)\n",
    "predictions"
   ]
  },
  {
   "cell_type": "code",
   "execution_count": null,
   "id": "artificial-possible",
   "metadata": {},
   "outputs": [],
   "source": [
    "# saving model to file \n",
    "import pickle\n",
    "filename='../LogisticRegression/predictorRisk2.sav'\n",
    "pickle.dump(classifier, open(filename,'wb'))"
   ]
  },
  {
   "cell_type": "code",
   "execution_count": null,
   "id": "sacred-packet",
   "metadata": {},
   "outputs": [],
   "source": []
  },
  {
   "cell_type": "code",
   "execution_count": null,
   "id": "minimal-albuquerque",
   "metadata": {},
   "outputs": [],
   "source": []
  }
 ],
 "metadata": {
  "kernelspec": {
   "display_name": "Python 3",
   "language": "python",
   "name": "python3"
  },
  "language_info": {
   "codemirror_mode": {
    "name": "ipython",
    "version": 3
   },
   "file_extension": ".py",
   "mimetype": "text/x-python",
   "name": "python",
   "nbconvert_exporter": "python",
   "pygments_lexer": "ipython3",
   "version": "3.8.5"
  }
 },
 "nbformat": 4,
 "nbformat_minor": 5
}
