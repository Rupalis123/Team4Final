{
 "cells": [
  {
   "cell_type": "code",
   "execution_count": 25,
   "id": "stone-parade",
   "metadata": {},
   "outputs": [],
   "source": [
    "# dependencies \n",
    "import matplotlib.pyplot as plt\n",
    "import pandas as pd\n",
    "import numpy as np\n",
    "import os\n",
    "from sklearn import tree\n",
    "%matplotlib inline"
   ]
  },
  {
   "cell_type": "code",
   "execution_count": null,
   "id": "cubic-bachelor",
   "metadata": {},
   "outputs": [],
   "source": []
  },
  {
   "cell_type": "code",
   "execution_count": 26,
   "id": "together-egyptian",
   "metadata": {},
   "outputs": [],
   "source": [
    "import pandas as pd\n",
    "import psycopg2\n",
    "import config as creds"
   ]
  },
  {
   "cell_type": "code",
   "execution_count": 27,
   "id": "shaped-february",
   "metadata": {},
   "outputs": [
    {
     "name": "stdout",
     "output_type": "stream",
     "text": [
      "host=aws-pg-db001.chpuoe9ndogr.us-east-1.rds.amazonaws.com port=5432 dbname=covid user=postgres password=awsdbpassword001\n"
     ]
    }
   ],
   "source": [
    "conn_string = \"host=\"+ creds.PGHOST +\" port=\"+ \"5432\" +\" dbname=\"+ creds.PGDATABASE +\" user=\" + creds.PGUSER \\\n",
    "                  +\" password=\"+ creds.PGPASSWORD\n",
    "    \n",
    "print(conn_string)"
   ]
  },
  {
   "cell_type": "code",
   "execution_count": 28,
   "id": "further-aaron",
   "metadata": {},
   "outputs": [],
   "source": [
    "conn = psycopg2.connect(conn_string)\n",
    "# print(\"Connected!\")"
   ]
  },
  {
   "cell_type": "code",
   "execution_count": 29,
   "id": "christian-edward",
   "metadata": {},
   "outputs": [],
   "source": [
    "covid_df = pd.read_sql_query(\n",
    "                   ''' SELECT * FROM coviddata \n",
    "                   ''' , conn)"
   ]
  },
  {
   "cell_type": "code",
   "execution_count": 30,
   "id": "vocal-chance",
   "metadata": {},
   "outputs": [
    {
     "data": {
      "text/html": [
       "<div>\n",
       "<style scoped>\n",
       "    .dataframe tbody tr th:only-of-type {\n",
       "        vertical-align: middle;\n",
       "    }\n",
       "\n",
       "    .dataframe tbody tr th {\n",
       "        vertical-align: top;\n",
       "    }\n",
       "\n",
       "    .dataframe thead th {\n",
       "        text-align: right;\n",
       "    }\n",
       "</style>\n",
       "<table border=\"1\" class=\"dataframe\">\n",
       "  <thead>\n",
       "    <tr style=\"text-align: right;\">\n",
       "      <th></th>\n",
       "      <th>id</th>\n",
       "      <th>country</th>\n",
       "      <th>province_state</th>\n",
       "      <th>studypopsize</th>\n",
       "      <th>covidtestresult</th>\n",
       "      <th>meanage</th>\n",
       "      <th>agegroup_pediatrics</th>\n",
       "      <th>agegroup_youngadult</th>\n",
       "      <th>agegroup_aging</th>\n",
       "      <th>gender_male</th>\n",
       "      <th>...</th>\n",
       "      <th>diarrhea</th>\n",
       "      <th>nauseavomiting</th>\n",
       "      <th>anorexia</th>\n",
       "      <th>sorethroat_congestion</th>\n",
       "      <th>chills</th>\n",
       "      <th>chestpain</th>\n",
       "      <th>losssmelltaste</th>\n",
       "      <th>asymptomatic</th>\n",
       "      <th>mortality</th>\n",
       "      <th>mortality_bin</th>\n",
       "    </tr>\n",
       "  </thead>\n",
       "  <tbody>\n",
       "    <tr>\n",
       "      <th>0</th>\n",
       "      <td>1                                             ...</td>\n",
       "      <td>China                                         ...</td>\n",
       "      <td>Wuhan                                         ...</td>\n",
       "      <td>191                                           ...</td>\n",
       "      <td>Positive only                                 ...</td>\n",
       "      <td>56                                            ...</td>\n",
       "      <td>0                                             ...</td>\n",
       "      <td>0                                             ...</td>\n",
       "      <td>0                                             ...</td>\n",
       "      <td>1                                             ...</td>\n",
       "      <td>...</td>\n",
       "      <td>0.05                                          ...</td>\n",
       "      <td>0.04                                          ...</td>\n",
       "      <td>0                                             ...</td>\n",
       "      <td>0                                             ...</td>\n",
       "      <td>0                                             ...</td>\n",
       "      <td>0                                             ...</td>\n",
       "      <td>0                                             ...</td>\n",
       "      <td>0                                             ...</td>\n",
       "      <td>0.28                                          ...</td>\n",
       "      <td>1                                             ...</td>\n",
       "    </tr>\n",
       "    <tr>\n",
       "      <th>1</th>\n",
       "      <td>1                                             ...</td>\n",
       "      <td>China                                         ...</td>\n",
       "      <td>Wuhan                                         ...</td>\n",
       "      <td>54                                            ...</td>\n",
       "      <td>Positive only                                 ...</td>\n",
       "      <td>69                                            ...</td>\n",
       "      <td>0                                             ...</td>\n",
       "      <td>0                                             ...</td>\n",
       "      <td>1                                             ...</td>\n",
       "      <td>1                                             ...</td>\n",
       "      <td>...</td>\n",
       "      <td>0.04                                          ...</td>\n",
       "      <td>0.06                                          ...</td>\n",
       "      <td>0                                             ...</td>\n",
       "      <td>0                                             ...</td>\n",
       "      <td>0                                             ...</td>\n",
       "      <td>0                                             ...</td>\n",
       "      <td>0                                             ...</td>\n",
       "      <td>0                                             ...</td>\n",
       "      <td>1                                             ...</td>\n",
       "      <td>1                                             ...</td>\n",
       "    </tr>\n",
       "    <tr>\n",
       "      <th>2</th>\n",
       "      <td>1                                             ...</td>\n",
       "      <td>China                                         ...</td>\n",
       "      <td>Wuhan                                         ...</td>\n",
       "      <td>137                                           ...</td>\n",
       "      <td>Positive only                                 ...</td>\n",
       "      <td>52                                            ...</td>\n",
       "      <td>0                                             ...</td>\n",
       "      <td>0                                             ...</td>\n",
       "      <td>0                                             ...</td>\n",
       "      <td>1                                             ...</td>\n",
       "      <td>...</td>\n",
       "      <td>0.05                                          ...</td>\n",
       "      <td>0.03                                          ...</td>\n",
       "      <td>0                                             ...</td>\n",
       "      <td>0                                             ...</td>\n",
       "      <td>0                                             ...</td>\n",
       "      <td>0                                             ...</td>\n",
       "      <td>0                                             ...</td>\n",
       "      <td>0                                             ...</td>\n",
       "      <td>0                                             ...</td>\n",
       "      <td>0                                             ...</td>\n",
       "    </tr>\n",
       "    <tr>\n",
       "      <th>3</th>\n",
       "      <td>2                                             ...</td>\n",
       "      <td>China                                         ...</td>\n",
       "      <td>Wuhan                                         ...</td>\n",
       "      <td>199                                           ...</td>\n",
       "      <td>Positive only                                 ...</td>\n",
       "      <td>58                                            ...</td>\n",
       "      <td>0                                             ...</td>\n",
       "      <td>0                                             ...</td>\n",
       "      <td>0                                             ...</td>\n",
       "      <td>1                                             ...</td>\n",
       "      <td>...</td>\n",
       "      <td>0.02                                          ...</td>\n",
       "      <td>0.04                                          ...</td>\n",
       "      <td>0.01                                          ...</td>\n",
       "      <td>0                                             ...</td>\n",
       "      <td>0                                             ...</td>\n",
       "      <td>0                                             ...</td>\n",
       "      <td>0                                             ...</td>\n",
       "      <td>0                                             ...</td>\n",
       "      <td>0.16                                          ...</td>\n",
       "      <td>1                                             ...</td>\n",
       "    </tr>\n",
       "    <tr>\n",
       "      <th>4</th>\n",
       "      <td>2                                             ...</td>\n",
       "      <td>China                                         ...</td>\n",
       "      <td>Wuhan                                         ...</td>\n",
       "      <td>99                                            ...</td>\n",
       "      <td>Positive only                                 ...</td>\n",
       "      <td>59                                            ...</td>\n",
       "      <td>0                                             ...</td>\n",
       "      <td>0                                             ...</td>\n",
       "      <td>0                                             ...</td>\n",
       "      <td>1                                             ...</td>\n",
       "      <td>...</td>\n",
       "      <td>0.04                                          ...</td>\n",
       "      <td>0.09                                          ...</td>\n",
       "      <td>0.02                                          ...</td>\n",
       "      <td>0                                             ...</td>\n",
       "      <td>0                                             ...</td>\n",
       "      <td>0                                             ...</td>\n",
       "      <td>0                                             ...</td>\n",
       "      <td>0                                             ...</td>\n",
       "      <td>0.15                                          ...</td>\n",
       "      <td>1                                             ...</td>\n",
       "    </tr>\n",
       "    <tr>\n",
       "      <th>...</th>\n",
       "      <td>...</td>\n",
       "      <td>...</td>\n",
       "      <td>...</td>\n",
       "      <td>...</td>\n",
       "      <td>...</td>\n",
       "      <td>...</td>\n",
       "      <td>...</td>\n",
       "      <td>...</td>\n",
       "      <td>...</td>\n",
       "      <td>...</td>\n",
       "      <td>...</td>\n",
       "      <td>...</td>\n",
       "      <td>...</td>\n",
       "      <td>...</td>\n",
       "      <td>...</td>\n",
       "      <td>...</td>\n",
       "      <td>...</td>\n",
       "      <td>...</td>\n",
       "      <td>...</td>\n",
       "      <td>...</td>\n",
       "      <td>...</td>\n",
       "    </tr>\n",
       "    <tr>\n",
       "      <th>1151</th>\n",
       "      <td>199                                           ...</td>\n",
       "      <td>China                                         ...</td>\n",
       "      <td>Hubei                                         ...</td>\n",
       "      <td>78                                            ...</td>\n",
       "      <td>Positive only                                 ...</td>\n",
       "      <td>64                                            ...</td>\n",
       "      <td>0                                             ...</td>\n",
       "      <td>0                                             ...</td>\n",
       "      <td>0                                             ...</td>\n",
       "      <td>1                                             ...</td>\n",
       "      <td>...</td>\n",
       "      <td>0.03                                          ...</td>\n",
       "      <td>0.03                                          ...</td>\n",
       "      <td>0                                             ...</td>\n",
       "      <td>0                                             ...</td>\n",
       "      <td>0                                             ...</td>\n",
       "      <td>0                                             ...</td>\n",
       "      <td>0                                             ...</td>\n",
       "      <td>0                                             ...</td>\n",
       "      <td>0.13                                          ...</td>\n",
       "      <td>1                                             ...</td>\n",
       "    </tr>\n",
       "    <tr>\n",
       "      <th>1152</th>\n",
       "      <td>200                                           ...</td>\n",
       "      <td>USA                                           ...</td>\n",
       "      <td>New York                                      ...</td>\n",
       "      <td>151                                           ...</td>\n",
       "      <td>Positive only                                 ...</td>\n",
       "      <td>56                                            ...</td>\n",
       "      <td>0                                             ...</td>\n",
       "      <td>0                                             ...</td>\n",
       "      <td>0                                             ...</td>\n",
       "      <td>1                                             ...</td>\n",
       "      <td>...</td>\n",
       "      <td>0.2                                           ...</td>\n",
       "      <td>0.09                                          ...</td>\n",
       "      <td>0                                             ...</td>\n",
       "      <td>0.11                                          ...</td>\n",
       "      <td>0.15                                          ...</td>\n",
       "      <td>0                                             ...</td>\n",
       "      <td>0                                             ...</td>\n",
       "      <td>0                                             ...</td>\n",
       "      <td>0.15                                          ...</td>\n",
       "      <td>1                                             ...</td>\n",
       "    </tr>\n",
       "    <tr>\n",
       "      <th>1153</th>\n",
       "      <td>200                                           ...</td>\n",
       "      <td>USA                                           ...</td>\n",
       "      <td>New York                                      ...</td>\n",
       "      <td>618                                           ...</td>\n",
       "      <td>Positive only                                 ...</td>\n",
       "      <td>63                                            ...</td>\n",
       "      <td>0                                             ...</td>\n",
       "      <td>0                                             ...</td>\n",
       "      <td>0                                             ...</td>\n",
       "      <td>0                                             ...</td>\n",
       "      <td>...</td>\n",
       "      <td>0.25                                          ...</td>\n",
       "      <td>0.22                                          ...</td>\n",
       "      <td>0                                             ...</td>\n",
       "      <td>0.08                                          ...</td>\n",
       "      <td>0.19                                          ...</td>\n",
       "      <td>0                                             ...</td>\n",
       "      <td>0                                             ...</td>\n",
       "      <td>0                                             ...</td>\n",
       "      <td>0.13                                          ...</td>\n",
       "      <td>1                                             ...</td>\n",
       "    </tr>\n",
       "    <tr>\n",
       "      <th>1154</th>\n",
       "      <td>200                                           ...</td>\n",
       "      <td>USA                                           ...</td>\n",
       "      <td>New York                                      ...</td>\n",
       "      <td>231                                           ...</td>\n",
       "      <td>Positive only                                 ...</td>\n",
       "      <td>62                                            ...</td>\n",
       "      <td>0                                             ...</td>\n",
       "      <td>0                                             ...</td>\n",
       "      <td>0                                             ...</td>\n",
       "      <td>1                                             ...</td>\n",
       "      <td>...</td>\n",
       "      <td>0.21                                          ...</td>\n",
       "      <td>0.1                                           ...</td>\n",
       "      <td>0                                             ...</td>\n",
       "      <td>0.08                                          ...</td>\n",
       "      <td>0.16                                          ...</td>\n",
       "      <td>0                                             ...</td>\n",
       "      <td>0                                             ...</td>\n",
       "      <td>0                                             ...</td>\n",
       "      <td>0.31                                          ...</td>\n",
       "      <td>1                                             ...</td>\n",
       "    </tr>\n",
       "    <tr>\n",
       "      <th>1155</th>\n",
       "      <td>200                                           ...</td>\n",
       "      <td>USA                                           ...</td>\n",
       "      <td>New York                                      ...</td>\n",
       "      <td>1000                                          ...</td>\n",
       "      <td>Positive only                                 ...</td>\n",
       "      <td>62                                            ...</td>\n",
       "      <td>0                                             ...</td>\n",
       "      <td>0                                             ...</td>\n",
       "      <td>0                                             ...</td>\n",
       "      <td>0                                             ...</td>\n",
       "      <td>...</td>\n",
       "      <td>0.23                                          ...</td>\n",
       "      <td>0.18                                          ...</td>\n",
       "      <td>0                                             ...</td>\n",
       "      <td>0.08                                          ...</td>\n",
       "      <td>0.18                                          ...</td>\n",
       "      <td>0                                             ...</td>\n",
       "      <td>0                                             ...</td>\n",
       "      <td>0                                             ...</td>\n",
       "      <td>0.17                                          ...</td>\n",
       "      <td>1                                             ...</td>\n",
       "    </tr>\n",
       "  </tbody>\n",
       "</table>\n",
       "<p>1156 rows × 44 columns</p>\n",
       "</div>"
      ],
      "text/plain": [
       "                                                     id  \\\n",
       "0     1                                             ...   \n",
       "1     1                                             ...   \n",
       "2     1                                             ...   \n",
       "3     2                                             ...   \n",
       "4     2                                             ...   \n",
       "...                                                 ...   \n",
       "1151  199                                           ...   \n",
       "1152  200                                           ...   \n",
       "1153  200                                           ...   \n",
       "1154  200                                           ...   \n",
       "1155  200                                           ...   \n",
       "\n",
       "                                                country  \\\n",
       "0     China                                         ...   \n",
       "1     China                                         ...   \n",
       "2     China                                         ...   \n",
       "3     China                                         ...   \n",
       "4     China                                         ...   \n",
       "...                                                 ...   \n",
       "1151  China                                         ...   \n",
       "1152  USA                                           ...   \n",
       "1153  USA                                           ...   \n",
       "1154  USA                                           ...   \n",
       "1155  USA                                           ...   \n",
       "\n",
       "                                         province_state  \\\n",
       "0     Wuhan                                         ...   \n",
       "1     Wuhan                                         ...   \n",
       "2     Wuhan                                         ...   \n",
       "3     Wuhan                                         ...   \n",
       "4     Wuhan                                         ...   \n",
       "...                                                 ...   \n",
       "1151  Hubei                                         ...   \n",
       "1152  New York                                      ...   \n",
       "1153  New York                                      ...   \n",
       "1154  New York                                      ...   \n",
       "1155  New York                                      ...   \n",
       "\n",
       "                                           studypopsize  \\\n",
       "0     191                                           ...   \n",
       "1     54                                            ...   \n",
       "2     137                                           ...   \n",
       "3     199                                           ...   \n",
       "4     99                                            ...   \n",
       "...                                                 ...   \n",
       "1151  78                                            ...   \n",
       "1152  151                                           ...   \n",
       "1153  618                                           ...   \n",
       "1154  231                                           ...   \n",
       "1155  1000                                          ...   \n",
       "\n",
       "                                        covidtestresult  \\\n",
       "0     Positive only                                 ...   \n",
       "1     Positive only                                 ...   \n",
       "2     Positive only                                 ...   \n",
       "3     Positive only                                 ...   \n",
       "4     Positive only                                 ...   \n",
       "...                                                 ...   \n",
       "1151  Positive only                                 ...   \n",
       "1152  Positive only                                 ...   \n",
       "1153  Positive only                                 ...   \n",
       "1154  Positive only                                 ...   \n",
       "1155  Positive only                                 ...   \n",
       "\n",
       "                                                meanage  \\\n",
       "0     56                                            ...   \n",
       "1     69                                            ...   \n",
       "2     52                                            ...   \n",
       "3     58                                            ...   \n",
       "4     59                                            ...   \n",
       "...                                                 ...   \n",
       "1151  64                                            ...   \n",
       "1152  56                                            ...   \n",
       "1153  63                                            ...   \n",
       "1154  62                                            ...   \n",
       "1155  62                                            ...   \n",
       "\n",
       "                                    agegroup_pediatrics  \\\n",
       "0     0                                             ...   \n",
       "1     0                                             ...   \n",
       "2     0                                             ...   \n",
       "3     0                                             ...   \n",
       "4     0                                             ...   \n",
       "...                                                 ...   \n",
       "1151  0                                             ...   \n",
       "1152  0                                             ...   \n",
       "1153  0                                             ...   \n",
       "1154  0                                             ...   \n",
       "1155  0                                             ...   \n",
       "\n",
       "                                    agegroup_youngadult  \\\n",
       "0     0                                             ...   \n",
       "1     0                                             ...   \n",
       "2     0                                             ...   \n",
       "3     0                                             ...   \n",
       "4     0                                             ...   \n",
       "...                                                 ...   \n",
       "1151  0                                             ...   \n",
       "1152  0                                             ...   \n",
       "1153  0                                             ...   \n",
       "1154  0                                             ...   \n",
       "1155  0                                             ...   \n",
       "\n",
       "                                         agegroup_aging  \\\n",
       "0     0                                             ...   \n",
       "1     1                                             ...   \n",
       "2     0                                             ...   \n",
       "3     0                                             ...   \n",
       "4     0                                             ...   \n",
       "...                                                 ...   \n",
       "1151  0                                             ...   \n",
       "1152  0                                             ...   \n",
       "1153  0                                             ...   \n",
       "1154  0                                             ...   \n",
       "1155  0                                             ...   \n",
       "\n",
       "                                            gender_male  ...  \\\n",
       "0     1                                             ...  ...   \n",
       "1     1                                             ...  ...   \n",
       "2     1                                             ...  ...   \n",
       "3     1                                             ...  ...   \n",
       "4     1                                             ...  ...   \n",
       "...                                                 ...  ...   \n",
       "1151  1                                             ...  ...   \n",
       "1152  1                                             ...  ...   \n",
       "1153  0                                             ...  ...   \n",
       "1154  1                                             ...  ...   \n",
       "1155  0                                             ...  ...   \n",
       "\n",
       "                                               diarrhea  \\\n",
       "0     0.05                                          ...   \n",
       "1     0.04                                          ...   \n",
       "2     0.05                                          ...   \n",
       "3     0.02                                          ...   \n",
       "4     0.04                                          ...   \n",
       "...                                                 ...   \n",
       "1151  0.03                                          ...   \n",
       "1152  0.2                                           ...   \n",
       "1153  0.25                                          ...   \n",
       "1154  0.21                                          ...   \n",
       "1155  0.23                                          ...   \n",
       "\n",
       "                                         nauseavomiting  \\\n",
       "0     0.04                                          ...   \n",
       "1     0.06                                          ...   \n",
       "2     0.03                                          ...   \n",
       "3     0.04                                          ...   \n",
       "4     0.09                                          ...   \n",
       "...                                                 ...   \n",
       "1151  0.03                                          ...   \n",
       "1152  0.09                                          ...   \n",
       "1153  0.22                                          ...   \n",
       "1154  0.1                                           ...   \n",
       "1155  0.18                                          ...   \n",
       "\n",
       "                                               anorexia  \\\n",
       "0     0                                             ...   \n",
       "1     0                                             ...   \n",
       "2     0                                             ...   \n",
       "3     0.01                                          ...   \n",
       "4     0.02                                          ...   \n",
       "...                                                 ...   \n",
       "1151  0                                             ...   \n",
       "1152  0                                             ...   \n",
       "1153  0                                             ...   \n",
       "1154  0                                             ...   \n",
       "1155  0                                             ...   \n",
       "\n",
       "                                  sorethroat_congestion  \\\n",
       "0     0                                             ...   \n",
       "1     0                                             ...   \n",
       "2     0                                             ...   \n",
       "3     0                                             ...   \n",
       "4     0                                             ...   \n",
       "...                                                 ...   \n",
       "1151  0                                             ...   \n",
       "1152  0.11                                          ...   \n",
       "1153  0.08                                          ...   \n",
       "1154  0.08                                          ...   \n",
       "1155  0.08                                          ...   \n",
       "\n",
       "                                                 chills  \\\n",
       "0     0                                             ...   \n",
       "1     0                                             ...   \n",
       "2     0                                             ...   \n",
       "3     0                                             ...   \n",
       "4     0                                             ...   \n",
       "...                                                 ...   \n",
       "1151  0                                             ...   \n",
       "1152  0.15                                          ...   \n",
       "1153  0.19                                          ...   \n",
       "1154  0.16                                          ...   \n",
       "1155  0.18                                          ...   \n",
       "\n",
       "                                              chestpain  \\\n",
       "0     0                                             ...   \n",
       "1     0                                             ...   \n",
       "2     0                                             ...   \n",
       "3     0                                             ...   \n",
       "4     0                                             ...   \n",
       "...                                                 ...   \n",
       "1151  0                                             ...   \n",
       "1152  0                                             ...   \n",
       "1153  0                                             ...   \n",
       "1154  0                                             ...   \n",
       "1155  0                                             ...   \n",
       "\n",
       "                                         losssmelltaste  \\\n",
       "0     0                                             ...   \n",
       "1     0                                             ...   \n",
       "2     0                                             ...   \n",
       "3     0                                             ...   \n",
       "4     0                                             ...   \n",
       "...                                                 ...   \n",
       "1151  0                                             ...   \n",
       "1152  0                                             ...   \n",
       "1153  0                                             ...   \n",
       "1154  0                                             ...   \n",
       "1155  0                                             ...   \n",
       "\n",
       "                                           asymptomatic  \\\n",
       "0     0                                             ...   \n",
       "1     0                                             ...   \n",
       "2     0                                             ...   \n",
       "3     0                                             ...   \n",
       "4     0                                             ...   \n",
       "...                                                 ...   \n",
       "1151  0                                             ...   \n",
       "1152  0                                             ...   \n",
       "1153  0                                             ...   \n",
       "1154  0                                             ...   \n",
       "1155  0                                             ...   \n",
       "\n",
       "                                              mortality  \\\n",
       "0     0.28                                          ...   \n",
       "1     1                                             ...   \n",
       "2     0                                             ...   \n",
       "3     0.16                                          ...   \n",
       "4     0.15                                          ...   \n",
       "...                                                 ...   \n",
       "1151  0.13                                          ...   \n",
       "1152  0.15                                          ...   \n",
       "1153  0.13                                          ...   \n",
       "1154  0.31                                          ...   \n",
       "1155  0.17                                          ...   \n",
       "\n",
       "                                          mortality_bin  \n",
       "0     1                                             ...  \n",
       "1     1                                             ...  \n",
       "2     0                                             ...  \n",
       "3     1                                             ...  \n",
       "4     1                                             ...  \n",
       "...                                                 ...  \n",
       "1151  1                                             ...  \n",
       "1152  1                                             ...  \n",
       "1153  1                                             ...  \n",
       "1154  1                                             ...  \n",
       "1155  1                                             ...  \n",
       "\n",
       "[1156 rows x 44 columns]"
      ]
     },
     "execution_count": 30,
     "metadata": {},
     "output_type": "execute_result"
    }
   ],
   "source": [
    "covid_df"
   ]
  },
  {
   "cell_type": "code",
   "execution_count": null,
   "id": "upset-stability",
   "metadata": {},
   "outputs": [],
   "source": []
  },
  {
   "cell_type": "code",
   "execution_count": 31,
   "id": "worldwide-rings",
   "metadata": {},
   "outputs": [],
   "source": [
    "df = pd.read_csv('test3.csv')\n"
   ]
  },
  {
   "cell_type": "markdown",
   "id": "artistic-composer",
   "metadata": {},
   "source": [
    "Question 1: Is Age a factor in determining high risk mortality? "
   ]
  },
  {
   "cell_type": "code",
   "execution_count": 32,
   "id": "wooden-construction",
   "metadata": {},
   "outputs": [
    {
     "data": {
      "text/html": [
       "<div>\n",
       "<style scoped>\n",
       "    .dataframe tbody tr th:only-of-type {\n",
       "        vertical-align: middle;\n",
       "    }\n",
       "\n",
       "    .dataframe tbody tr th {\n",
       "        vertical-align: top;\n",
       "    }\n",
       "\n",
       "    .dataframe thead th {\n",
       "        text-align: right;\n",
       "    }\n",
       "</style>\n",
       "<table border=\"1\" class=\"dataframe\">\n",
       "  <thead>\n",
       "    <tr style=\"text-align: right;\">\n",
       "      <th></th>\n",
       "      <th>Mean Age</th>\n",
       "      <th>Mortality</th>\n",
       "      <th>Mortality_bin</th>\n",
       "    </tr>\n",
       "  </thead>\n",
       "  <tbody>\n",
       "    <tr>\n",
       "      <th>0</th>\n",
       "      <td>56</td>\n",
       "      <td>0.28</td>\n",
       "      <td>1</td>\n",
       "    </tr>\n",
       "    <tr>\n",
       "      <th>1</th>\n",
       "      <td>69</td>\n",
       "      <td>1.00</td>\n",
       "      <td>1</td>\n",
       "    </tr>\n",
       "    <tr>\n",
       "      <th>2</th>\n",
       "      <td>52</td>\n",
       "      <td>0.00</td>\n",
       "      <td>0</td>\n",
       "    </tr>\n",
       "    <tr>\n",
       "      <th>3</th>\n",
       "      <td>58</td>\n",
       "      <td>0.16</td>\n",
       "      <td>1</td>\n",
       "    </tr>\n",
       "    <tr>\n",
       "      <th>4</th>\n",
       "      <td>59</td>\n",
       "      <td>0.15</td>\n",
       "      <td>1</td>\n",
       "    </tr>\n",
       "    <tr>\n",
       "      <th>...</th>\n",
       "      <td>...</td>\n",
       "      <td>...</td>\n",
       "      <td>...</td>\n",
       "    </tr>\n",
       "    <tr>\n",
       "      <th>1151</th>\n",
       "      <td>64</td>\n",
       "      <td>0.13</td>\n",
       "      <td>1</td>\n",
       "    </tr>\n",
       "    <tr>\n",
       "      <th>1152</th>\n",
       "      <td>56</td>\n",
       "      <td>0.15</td>\n",
       "      <td>1</td>\n",
       "    </tr>\n",
       "    <tr>\n",
       "      <th>1153</th>\n",
       "      <td>63</td>\n",
       "      <td>0.13</td>\n",
       "      <td>1</td>\n",
       "    </tr>\n",
       "    <tr>\n",
       "      <th>1154</th>\n",
       "      <td>62</td>\n",
       "      <td>0.31</td>\n",
       "      <td>1</td>\n",
       "    </tr>\n",
       "    <tr>\n",
       "      <th>1155</th>\n",
       "      <td>62</td>\n",
       "      <td>0.17</td>\n",
       "      <td>1</td>\n",
       "    </tr>\n",
       "  </tbody>\n",
       "</table>\n",
       "<p>1156 rows × 3 columns</p>\n",
       "</div>"
      ],
      "text/plain": [
       "      Mean Age  Mortality  Mortality_bin\n",
       "0           56       0.28              1\n",
       "1           69       1.00              1\n",
       "2           52       0.00              0\n",
       "3           58       0.16              1\n",
       "4           59       0.15              1\n",
       "...        ...        ...            ...\n",
       "1151        64       0.13              1\n",
       "1152        56       0.15              1\n",
       "1153        63       0.13              1\n",
       "1154        62       0.31              1\n",
       "1155        62       0.17              1\n",
       "\n",
       "[1156 rows x 3 columns]"
      ]
     },
     "execution_count": 32,
     "metadata": {},
     "output_type": "execute_result"
    }
   ],
   "source": [
    "age_plot = df[['Mean Age','Mortality','Mortality_bin']]\n",
    "age_plot"
   ]
  },
  {
   "cell_type": "code",
   "execution_count": 33,
   "id": "weekly-frank",
   "metadata": {},
   "outputs": [
    {
     "name": "stdout",
     "output_type": "stream",
     "text": [
      "(1156, 1) (1156, 1)\n"
     ]
    }
   ],
   "source": [
    "X = age_plot[[\"Mean Age\"]]\n",
    "y = age_plot[[\"Mortality\"]]\n",
    "print(X.shape, y.shape)"
   ]
  },
  {
   "cell_type": "code",
   "execution_count": 34,
   "id": "legendary-client",
   "metadata": {},
   "outputs": [
    {
     "data": {
      "text/plain": [
       "Text(0.5, 1.0, 'Age vs Mortality')"
      ]
     },
     "execution_count": 34,
     "metadata": {},
     "output_type": "execute_result"
    },
    {
     "data": {
      "image/png": "[encoded data removed]",
      "text/plain": [
       "<Figure size 432x288 with 1 Axes>"
      ]
     },
     "metadata": {
      "needs_background": "light"
     },
     "output_type": "display_data"
    }
   ],
   "source": [
    "# Comment about this plot and how 20s have high mortality \n",
    "plt.scatter(X,age_plot[[\"Mortality\"]])\n",
    "plt.xlabel('Age')\n",
    "plt.ylabel('Mortality')\n",
    "plt.title('Age vs Mortality')"
   ]
  },
  {
   "cell_type": "code",
   "execution_count": 35,
   "id": "built-server",
   "metadata": {},
   "outputs": [],
   "source": [
    "from sklearn.model_selection import train_test_split\n",
    "X_train, X_test, y_train, y_test = train_test_split(X, y, random_state=1)"
   ]
  },
  {
   "cell_type": "code",
   "execution_count": 36,
   "id": "pleased-header",
   "metadata": {},
   "outputs": [],
   "source": [
    "from sklearn.cluster import KMeans\n",
    "kmeans = KMeans(n_clusters=6)"
   ]
  },
  {
   "cell_type": "code",
   "execution_count": 37,
   "id": "chubby-olive",
   "metadata": {},
   "outputs": [
    {
     "data": {
      "text/plain": [
       "KMeans(n_clusters=6)"
      ]
     },
     "execution_count": 37,
     "metadata": {},
     "output_type": "execute_result"
    }
   ],
   "source": [
    "kmeans.fit(X_test, y_test)"
   ]
  },
  {
   "cell_type": "code",
   "execution_count": 38,
   "id": "decimal-fleet",
   "metadata": {},
   "outputs": [],
   "source": [
    "predicted_clusters = kmeans.predict(X_test)"
   ]
  },
  {
   "cell_type": "code",
   "execution_count": 39,
   "id": "third-search",
   "metadata": {},
   "outputs": [],
   "source": [
    "centers = kmeans.cluster_centers_\n",
    "labels = kmeans.labels_\n"
   ]
  },
  {
   "cell_type": "code",
   "execution_count": 40,
   "id": "separated-habitat",
   "metadata": {},
   "outputs": [
    {
     "data": {
      "text/plain": [
       "<matplotlib.collections.PathCollection at 0x11af07d90>"
      ]
     },
     "execution_count": 40,
     "metadata": {},
     "output_type": "execute_result"
    },
    {
     "data": {
      "image/png": "[encoded data removed]",
      "text/plain": [
       "<Figure size 432x288 with 1 Axes>"
      ]
     },
     "metadata": {
      "needs_background": "light"
     },
     "output_type": "display_data"
    }
   ],
   "source": [
    "plt.scatter(X_test, y_test, c = labels, cmap='viridis')"
   ]
  },
  {
   "cell_type": "code",
   "execution_count": 41,
   "id": "convenient-greensboro",
   "metadata": {},
   "outputs": [
    {
     "data": {
      "text/plain": [
       "(      Mean Age\n",
       " 972         23\n",
       " 202         16\n",
       " 661         63\n",
       " 1049        56\n",
       " 953         70\n",
       " ...        ...\n",
       " 325         46\n",
       " 386         35\n",
       " 329         35\n",
       " 1126        61\n",
       " 59           0\n",
       " \n",
       " [289 rows x 1 columns],\n",
       " array([1, 1, 4, 4, 0, 1, 0, 5, 2, 4, 2, 2, 1, 1, 2, 3, 2, 1, 3, 2, 0, 0,\n",
       "        2, 1, 4, 1, 3, 0, 1, 5, 3, 5, 4, 5, 4, 2, 2, 3, 0, 5, 4, 0, 2, 4,\n",
       "        2, 2, 4, 0, 1, 0, 1, 4, 0, 4, 2, 2, 2, 1, 3, 2, 2, 0, 4, 4, 1, 2,\n",
       "        1, 4, 2, 2, 2, 5, 1, 5, 2, 4, 0, 5, 5, 2, 2, 1, 0, 2, 4, 0, 4, 4,\n",
       "        4, 4, 1, 2, 5, 3, 0, 1, 2, 4, 1, 4, 1, 0, 2, 1, 0, 4, 4, 0, 2, 4,\n",
       "        1, 4, 1, 3, 2, 4, 4, 1, 2, 0, 0, 4, 4, 1, 4, 4, 2, 0, 3, 2, 2, 2,\n",
       "        2, 0, 5, 4, 5, 2, 2, 5, 3, 4, 4, 4, 5, 4, 4, 0, 2, 4, 4, 1, 0, 1,\n",
       "        0, 1, 4, 2, 1, 3, 4, 4, 4, 2, 0, 2, 5, 2, 5, 1, 0, 0, 5, 3, 2, 0,\n",
       "        0, 4, 3, 2, 1, 2, 2, 0, 5, 3, 0, 3, 3, 1, 1, 2, 4, 4, 0, 4, 2, 3,\n",
       "        3, 1, 5, 4, 2, 5, 3, 3, 2, 2, 1, 5, 4, 2, 0, 3, 4, 4, 2, 2, 2, 4,\n",
       "        0, 2, 5, 4, 5, 2, 2, 0, 1, 1, 0, 2, 1, 1, 3, 1, 2, 2, 2, 4, 2, 0,\n",
       "        3, 3, 4, 4, 5, 2, 4, 1, 4, 5, 4, 4, 2, 4, 3, 3, 3, 4, 2, 0, 3, 2,\n",
       "        5, 4, 1, 2, 0, 4, 3, 2, 1, 4, 2, 1, 2, 0, 0, 5, 1, 4, 0, 2, 2, 5,\n",
       "        5, 4, 3], dtype=int32),\n",
       "       Mortality\n",
       " 972        0.00\n",
       " 202        0.01\n",
       " 661        0.00\n",
       " 1049       0.00\n",
       " 953        1.00\n",
       " ...         ...\n",
       " 325        0.01\n",
       " 386        0.00\n",
       " 329        0.00\n",
       " 1126       0.08\n",
       " 59         0.00\n",
       " \n",
       " [289 rows x 1 columns])"
      ]
     },
     "execution_count": 41,
     "metadata": {},
     "output_type": "execute_result"
    }
   ],
   "source": [
    "X_test, predicted_clusters, y_test"
   ]
  },
  {
   "cell_type": "code",
   "execution_count": 42,
   "id": "amazing-child",
   "metadata": {},
   "outputs": [],
   "source": [
    "risk_age = pd.DataFrame(X_test)"
   ]
  },
  {
   "cell_type": "code",
   "execution_count": 43,
   "id": "subject-passion",
   "metadata": {},
   "outputs": [],
   "source": [
    "risk_age.reset_index(drop=True, inplace=True)"
   ]
  },
  {
   "cell_type": "code",
   "execution_count": 44,
   "id": "negative-capture",
   "metadata": {},
   "outputs": [
    {
     "data": {
      "text/html": [
       "<div>\n",
       "<style scoped>\n",
       "    .dataframe tbody tr th:only-of-type {\n",
       "        vertical-align: middle;\n",
       "    }\n",
       "\n",
       "    .dataframe tbody tr th {\n",
       "        vertical-align: top;\n",
       "    }\n",
       "\n",
       "    .dataframe thead th {\n",
       "        text-align: right;\n",
       "    }\n",
       "</style>\n",
       "<table border=\"1\" class=\"dataframe\">\n",
       "  <thead>\n",
       "    <tr style=\"text-align: right;\">\n",
       "      <th></th>\n",
       "      <th>0</th>\n",
       "    </tr>\n",
       "  </thead>\n",
       "  <tbody>\n",
       "    <tr>\n",
       "      <th>0</th>\n",
       "      <td>1</td>\n",
       "    </tr>\n",
       "    <tr>\n",
       "      <th>1</th>\n",
       "      <td>1</td>\n",
       "    </tr>\n",
       "    <tr>\n",
       "      <th>2</th>\n",
       "      <td>4</td>\n",
       "    </tr>\n",
       "    <tr>\n",
       "      <th>3</th>\n",
       "      <td>4</td>\n",
       "    </tr>\n",
       "    <tr>\n",
       "      <th>4</th>\n",
       "      <td>0</td>\n",
       "    </tr>\n",
       "    <tr>\n",
       "      <th>...</th>\n",
       "      <td>...</td>\n",
       "    </tr>\n",
       "    <tr>\n",
       "      <th>284</th>\n",
       "      <td>2</td>\n",
       "    </tr>\n",
       "    <tr>\n",
       "      <th>285</th>\n",
       "      <td>5</td>\n",
       "    </tr>\n",
       "    <tr>\n",
       "      <th>286</th>\n",
       "      <td>5</td>\n",
       "    </tr>\n",
       "    <tr>\n",
       "      <th>287</th>\n",
       "      <td>4</td>\n",
       "    </tr>\n",
       "    <tr>\n",
       "      <th>288</th>\n",
       "      <td>3</td>\n",
       "    </tr>\n",
       "  </tbody>\n",
       "</table>\n",
       "<p>289 rows × 1 columns</p>\n",
       "</div>"
      ],
      "text/plain": [
       "     0\n",
       "0    1\n",
       "1    1\n",
       "2    4\n",
       "3    4\n",
       "4    0\n",
       "..  ..\n",
       "284  2\n",
       "285  5\n",
       "286  5\n",
       "287  4\n",
       "288  3\n",
       "\n",
       "[289 rows x 1 columns]"
      ]
     },
     "execution_count": 44,
     "metadata": {},
     "output_type": "execute_result"
    }
   ],
   "source": [
    "predicted_clusters =pd.DataFrame(predicted_clusters)\n",
    "predicted_clusters"
   ]
  },
  {
   "cell_type": "code",
   "execution_count": 45,
   "id": "worse-sympathy",
   "metadata": {},
   "outputs": [],
   "source": [
    "risk_age['predicted_clusters']=predicted_clusters\n"
   ]
  },
  {
   "cell_type": "code",
   "execution_count": 46,
   "id": "referenced-sullivan",
   "metadata": {},
   "outputs": [],
   "source": [
    "y_test.reset_index(drop=True, inplace=True)"
   ]
  },
  {
   "cell_type": "code",
   "execution_count": 51,
   "id": "informative-combination",
   "metadata": {},
   "outputs": [
    {
     "data": {
      "text/html": [
       "<div>\n",
       "<style scoped>\n",
       "    .dataframe tbody tr th:only-of-type {\n",
       "        vertical-align: middle;\n",
       "    }\n",
       "\n",
       "    .dataframe tbody tr th {\n",
       "        vertical-align: top;\n",
       "    }\n",
       "\n",
       "    .dataframe thead th {\n",
       "        text-align: right;\n",
       "    }\n",
       "</style>\n",
       "<table border=\"1\" class=\"dataframe\">\n",
       "  <thead>\n",
       "    <tr style=\"text-align: right;\">\n",
       "      <th></th>\n",
       "      <th>Mortality</th>\n",
       "    </tr>\n",
       "  </thead>\n",
       "  <tbody>\n",
       "    <tr>\n",
       "      <th>0</th>\n",
       "      <td>0.00</td>\n",
       "    </tr>\n",
       "    <tr>\n",
       "      <th>1</th>\n",
       "      <td>0.01</td>\n",
       "    </tr>\n",
       "    <tr>\n",
       "      <th>2</th>\n",
       "      <td>0.00</td>\n",
       "    </tr>\n",
       "    <tr>\n",
       "      <th>3</th>\n",
       "      <td>0.00</td>\n",
       "    </tr>\n",
       "    <tr>\n",
       "      <th>4</th>\n",
       "      <td>1.00</td>\n",
       "    </tr>\n",
       "    <tr>\n",
       "      <th>...</th>\n",
       "      <td>...</td>\n",
       "    </tr>\n",
       "    <tr>\n",
       "      <th>284</th>\n",
       "      <td>0.01</td>\n",
       "    </tr>\n",
       "    <tr>\n",
       "      <th>285</th>\n",
       "      <td>0.00</td>\n",
       "    </tr>\n",
       "    <tr>\n",
       "      <th>286</th>\n",
       "      <td>0.00</td>\n",
       "    </tr>\n",
       "    <tr>\n",
       "      <th>287</th>\n",
       "      <td>0.08</td>\n",
       "    </tr>\n",
       "    <tr>\n",
       "      <th>288</th>\n",
       "      <td>0.00</td>\n",
       "    </tr>\n",
       "  </tbody>\n",
       "</table>\n",
       "<p>289 rows × 1 columns</p>\n",
       "</div>"
      ],
      "text/plain": [
       "     Mortality\n",
       "0         0.00\n",
       "1         0.01\n",
       "2         0.00\n",
       "3         0.00\n",
       "4         1.00\n",
       "..         ...\n",
       "284       0.01\n",
       "285       0.00\n",
       "286       0.00\n",
       "287       0.08\n",
       "288       0.00\n",
       "\n",
       "[289 rows x 1 columns]"
      ]
     },
     "execution_count": 51,
     "metadata": {},
     "output_type": "execute_result"
    }
   ],
   "source": [
    "y_test"
   ]
  },
  {
   "cell_type": "code",
   "execution_count": 52,
   "id": "alive-dream",
   "metadata": {},
   "outputs": [],
   "source": [
    "risk_age['Mortality']= y_test"
   ]
  },
  {
   "cell_type": "code",
   "execution_count": 56,
   "id": "seven-characterization",
   "metadata": {},
   "outputs": [],
   "source": [
    "riskAge = risk_age"
   ]
  },
  {
   "cell_type": "code",
   "execution_count": 55,
   "id": "atomic-cotton",
   "metadata": {},
   "outputs": [],
   "source": [
    "# riskAge = risk_age.drop(['y_test'], axis=1)"
   ]
  },
  {
   "cell_type": "code",
   "execution_count": 57,
   "id": "normal-printer",
   "metadata": {},
   "outputs": [
    {
     "data": {
      "text/html": [
       "<div>\n",
       "<style scoped>\n",
       "    .dataframe tbody tr th:only-of-type {\n",
       "        vertical-align: middle;\n",
       "    }\n",
       "\n",
       "    .dataframe tbody tr th {\n",
       "        vertical-align: top;\n",
       "    }\n",
       "\n",
       "    .dataframe thead th {\n",
       "        text-align: right;\n",
       "    }\n",
       "</style>\n",
       "<table border=\"1\" class=\"dataframe\">\n",
       "  <thead>\n",
       "    <tr style=\"text-align: right;\">\n",
       "      <th></th>\n",
       "      <th>Mean Age</th>\n",
       "      <th>predicted_clusters</th>\n",
       "      <th>Mortality</th>\n",
       "    </tr>\n",
       "  </thead>\n",
       "  <tbody>\n",
       "    <tr>\n",
       "      <th>194</th>\n",
       "      <td>75</td>\n",
       "      <td>0</td>\n",
       "      <td>0.00</td>\n",
       "    </tr>\n",
       "    <tr>\n",
       "      <th>94</th>\n",
       "      <td>70</td>\n",
       "      <td>0</td>\n",
       "      <td>1.00</td>\n",
       "    </tr>\n",
       "    <tr>\n",
       "      <th>120</th>\n",
       "      <td>69</td>\n",
       "      <td>0</td>\n",
       "      <td>0.64</td>\n",
       "    </tr>\n",
       "    <tr>\n",
       "      <th>164</th>\n",
       "      <td>73</td>\n",
       "      <td>0</td>\n",
       "      <td>1.00</td>\n",
       "    </tr>\n",
       "    <tr>\n",
       "      <th>268</th>\n",
       "      <td>69</td>\n",
       "      <td>0</td>\n",
       "      <td>0.00</td>\n",
       "    </tr>\n",
       "    <tr>\n",
       "      <th>...</th>\n",
       "      <td>...</td>\n",
       "      <td>...</td>\n",
       "      <td>...</td>\n",
       "    </tr>\n",
       "    <tr>\n",
       "      <th>134</th>\n",
       "      <td>40</td>\n",
       "      <td>5</td>\n",
       "      <td>0.00</td>\n",
       "    </tr>\n",
       "    <tr>\n",
       "      <th>251</th>\n",
       "      <td>35</td>\n",
       "      <td>5</td>\n",
       "      <td>0.00</td>\n",
       "    </tr>\n",
       "    <tr>\n",
       "      <th>209</th>\n",
       "      <td>42</td>\n",
       "      <td>5</td>\n",
       "      <td>0.00</td>\n",
       "    </tr>\n",
       "    <tr>\n",
       "      <th>31</th>\n",
       "      <td>37</td>\n",
       "      <td>5</td>\n",
       "      <td>0.00</td>\n",
       "    </tr>\n",
       "    <tr>\n",
       "      <th>144</th>\n",
       "      <td>36</td>\n",
       "      <td>5</td>\n",
       "      <td>0.00</td>\n",
       "    </tr>\n",
       "  </tbody>\n",
       "</table>\n",
       "<p>289 rows × 3 columns</p>\n",
       "</div>"
      ],
      "text/plain": [
       "     Mean Age  predicted_clusters  Mortality\n",
       "194        75                   0       0.00\n",
       "94         70                   0       1.00\n",
       "120        69                   0       0.64\n",
       "164        73                   0       1.00\n",
       "268        69                   0       0.00\n",
       "..        ...                 ...        ...\n",
       "134        40                   5       0.00\n",
       "251        35                   5       0.00\n",
       "209        42                   5       0.00\n",
       "31         37                   5       0.00\n",
       "144        36                   5       0.00\n",
       "\n",
       "[289 rows x 3 columns]"
      ]
     },
     "execution_count": 57,
     "metadata": {},
     "output_type": "execute_result"
    }
   ],
   "source": [
    "riskAge.sort_values(by=['predicted_clusters'])"
   ]
  },
  {
   "cell_type": "code",
   "execution_count": 58,
   "id": "enclosed-english",
   "metadata": {},
   "outputs": [],
   "source": [
    "mort = riskAge.groupby(by=[\"predicted_clusters\"]).mean('Mortality')\n",
    "new_mort = mort.rename(columns={'Mortality':'AvgMortality'})"
   ]
  },
  {
   "cell_type": "code",
   "execution_count": 59,
   "id": "daily-stretch",
   "metadata": {},
   "outputs": [],
   "source": [
    "minimum = riskAge.groupby(by=[\"predicted_clusters\"]).min('Mean Age')\n",
    "new_min = minimum.rename(columns={'Mean Age':'MinAge'})"
   ]
  },
  {
   "cell_type": "code",
   "execution_count": 60,
   "id": "professional-stream",
   "metadata": {},
   "outputs": [],
   "source": [
    "maximum = riskAge.groupby(by=[\"predicted_clusters\"]).max('Mean Age')\n",
    "new_max = maximum.rename(columns={'Mean Age':'MaxAge'})"
   ]
  },
  {
   "cell_type": "code",
   "execution_count": null,
   "id": "tribal-matrix",
   "metadata": {},
   "outputs": [],
   "source": [
    "# Group 0 age 54-64 with mortality of 0.100147\n",
    "# Group 1 age 12-25 with mortality of 0.094681\n",
    "# Group 2 "
   ]
  },
  {
   "cell_type": "code",
   "execution_count": 61,
   "id": "least-tooth",
   "metadata": {},
   "outputs": [
    {
     "data": {
      "text/html": [
       "<div>\n",
       "<style scoped>\n",
       "    .dataframe tbody tr th:only-of-type {\n",
       "        vertical-align: middle;\n",
       "    }\n",
       "\n",
       "    .dataframe tbody tr th {\n",
       "        vertical-align: top;\n",
       "    }\n",
       "\n",
       "    .dataframe thead th {\n",
       "        text-align: right;\n",
       "    }\n",
       "</style>\n",
       "<table border=\"1\" class=\"dataframe\">\n",
       "  <thead>\n",
       "    <tr style=\"text-align: right;\">\n",
       "      <th></th>\n",
       "      <th>Mean Age</th>\n",
       "      <th>AvgMortality</th>\n",
       "      <th>MinAge</th>\n",
       "      <th>Mortality</th>\n",
       "      <th>MaxAge</th>\n",
       "      <th>Mortality</th>\n",
       "    </tr>\n",
       "    <tr>\n",
       "      <th>predicted_clusters</th>\n",
       "      <th></th>\n",
       "      <th></th>\n",
       "      <th></th>\n",
       "      <th></th>\n",
       "      <th></th>\n",
       "      <th></th>\n",
       "    </tr>\n",
       "  </thead>\n",
       "  <tbody>\n",
       "    <tr>\n",
       "      <th>0</th>\n",
       "      <td>69.674419</td>\n",
       "      <td>0.350930</td>\n",
       "      <td>65</td>\n",
       "      <td>0.0</td>\n",
       "      <td>80</td>\n",
       "      <td>1.00</td>\n",
       "    </tr>\n",
       "    <tr>\n",
       "      <th>1</th>\n",
       "      <td>18.822222</td>\n",
       "      <td>0.098889</td>\n",
       "      <td>14</td>\n",
       "      <td>0.0</td>\n",
       "      <td>25</td>\n",
       "      <td>1.00</td>\n",
       "    </tr>\n",
       "    <tr>\n",
       "      <th>2</th>\n",
       "      <td>47.824324</td>\n",
       "      <td>0.032703</td>\n",
       "      <td>43</td>\n",
       "      <td>0.0</td>\n",
       "      <td>53</td>\n",
       "      <td>0.41</td>\n",
       "    </tr>\n",
       "    <tr>\n",
       "      <th>3</th>\n",
       "      <td>5.533333</td>\n",
       "      <td>0.000333</td>\n",
       "      <td>0</td>\n",
       "      <td>0.0</td>\n",
       "      <td>12</td>\n",
       "      <td>0.01</td>\n",
       "    </tr>\n",
       "    <tr>\n",
       "      <th>4</th>\n",
       "      <td>59.308824</td>\n",
       "      <td>0.100147</td>\n",
       "      <td>54</td>\n",
       "      <td>0.0</td>\n",
       "      <td>64</td>\n",
       "      <td>1.00</td>\n",
       "    </tr>\n",
       "    <tr>\n",
       "      <th>5</th>\n",
       "      <td>37.758621</td>\n",
       "      <td>0.000000</td>\n",
       "      <td>31</td>\n",
       "      <td>0.0</td>\n",
       "      <td>42</td>\n",
       "      <td>0.00</td>\n",
       "    </tr>\n",
       "  </tbody>\n",
       "</table>\n",
       "</div>"
      ],
      "text/plain": [
       "                     Mean Age  AvgMortality  MinAge  Mortality  MaxAge  \\\n",
       "predicted_clusters                                                       \n",
       "0                   69.674419      0.350930      65        0.0      80   \n",
       "1                   18.822222      0.098889      14        0.0      25   \n",
       "2                   47.824324      0.032703      43        0.0      53   \n",
       "3                    5.533333      0.000333       0        0.0      12   \n",
       "4                   59.308824      0.100147      54        0.0      64   \n",
       "5                   37.758621      0.000000      31        0.0      42   \n",
       "\n",
       "                    Mortality  \n",
       "predicted_clusters             \n",
       "0                        1.00  \n",
       "1                        1.00  \n",
       "2                        0.41  \n",
       "3                        0.01  \n",
       "4                        1.00  \n",
       "5                        0.00  "
      ]
     },
     "execution_count": 61,
     "metadata": {},
     "output_type": "execute_result"
    }
   ],
   "source": [
    "combined=pd.concat([new_mort, new_min, new_max],axis=1)\n",
    "combined"
   ]
  },
  {
   "cell_type": "code",
   "execution_count": 62,
   "id": "reflected-tanzania",
   "metadata": {},
   "outputs": [
    {
     "data": {
      "text/html": [
       "<div>\n",
       "<style scoped>\n",
       "    .dataframe tbody tr th:only-of-type {\n",
       "        vertical-align: middle;\n",
       "    }\n",
       "\n",
       "    .dataframe tbody tr th {\n",
       "        vertical-align: top;\n",
       "    }\n",
       "\n",
       "    .dataframe thead th {\n",
       "        text-align: right;\n",
       "    }\n",
       "</style>\n",
       "<table border=\"1\" class=\"dataframe\">\n",
       "  <thead>\n",
       "    <tr style=\"text-align: right;\">\n",
       "      <th></th>\n",
       "      <th>AvgMortality</th>\n",
       "      <th>MinAge</th>\n",
       "      <th>MaxAge</th>\n",
       "    </tr>\n",
       "    <tr>\n",
       "      <th>predicted_clusters</th>\n",
       "      <th></th>\n",
       "      <th></th>\n",
       "      <th></th>\n",
       "    </tr>\n",
       "  </thead>\n",
       "  <tbody>\n",
       "    <tr>\n",
       "      <th>0</th>\n",
       "      <td>0.350930</td>\n",
       "      <td>65</td>\n",
       "      <td>80</td>\n",
       "    </tr>\n",
       "    <tr>\n",
       "      <th>1</th>\n",
       "      <td>0.098889</td>\n",
       "      <td>14</td>\n",
       "      <td>25</td>\n",
       "    </tr>\n",
       "    <tr>\n",
       "      <th>2</th>\n",
       "      <td>0.032703</td>\n",
       "      <td>43</td>\n",
       "      <td>53</td>\n",
       "    </tr>\n",
       "    <tr>\n",
       "      <th>3</th>\n",
       "      <td>0.000333</td>\n",
       "      <td>0</td>\n",
       "      <td>12</td>\n",
       "    </tr>\n",
       "    <tr>\n",
       "      <th>4</th>\n",
       "      <td>0.100147</td>\n",
       "      <td>54</td>\n",
       "      <td>64</td>\n",
       "    </tr>\n",
       "    <tr>\n",
       "      <th>5</th>\n",
       "      <td>0.000000</td>\n",
       "      <td>31</td>\n",
       "      <td>42</td>\n",
       "    </tr>\n",
       "  </tbody>\n",
       "</table>\n",
       "</div>"
      ],
      "text/plain": [
       "                    AvgMortality  MinAge  MaxAge\n",
       "predicted_clusters                              \n",
       "0                       0.350930      65      80\n",
       "1                       0.098889      14      25\n",
       "2                       0.032703      43      53\n",
       "3                       0.000333       0      12\n",
       "4                       0.100147      54      64\n",
       "5                       0.000000      31      42"
      ]
     },
     "execution_count": 62,
     "metadata": {},
     "output_type": "execute_result"
    }
   ],
   "source": [
    "results = combined[['AvgMortality','MinAge','MaxAge']]\n",
    "results\n",
    "# tableau visual? export as file "
   ]
  },
  {
   "cell_type": "code",
   "execution_count": null,
   "id": "vertical-strengthening",
   "metadata": {},
   "outputs": [],
   "source": [
    "# end of question 1 "
   ]
  },
  {
   "cell_type": "code",
   "execution_count": 63,
   "id": "delayed-tanzania",
   "metadata": {},
   "outputs": [
    {
     "data": {
      "text/html": [
       "<div>\n",
       "<style scoped>\n",
       "    .dataframe tbody tr th:only-of-type {\n",
       "        vertical-align: middle;\n",
       "    }\n",
       "\n",
       "    .dataframe tbody tr th {\n",
       "        vertical-align: top;\n",
       "    }\n",
       "\n",
       "    .dataframe thead th {\n",
       "        text-align: right;\n",
       "    }\n",
       "</style>\n",
       "<table border=\"1\" class=\"dataframe\">\n",
       "  <thead>\n",
       "    <tr style=\"text-align: right;\">\n",
       "      <th></th>\n",
       "      <th>AvgMortality</th>\n",
       "      <th>MinAge</th>\n",
       "      <th>MaxAge</th>\n",
       "    </tr>\n",
       "    <tr>\n",
       "      <th>predicted_clusters</th>\n",
       "      <th></th>\n",
       "      <th></th>\n",
       "      <th></th>\n",
       "    </tr>\n",
       "  </thead>\n",
       "  <tbody>\n",
       "    <tr>\n",
       "      <th>5</th>\n",
       "      <td>0.000000</td>\n",
       "      <td>31</td>\n",
       "      <td>42</td>\n",
       "    </tr>\n",
       "    <tr>\n",
       "      <th>3</th>\n",
       "      <td>0.000333</td>\n",
       "      <td>0</td>\n",
       "      <td>12</td>\n",
       "    </tr>\n",
       "    <tr>\n",
       "      <th>2</th>\n",
       "      <td>0.032703</td>\n",
       "      <td>43</td>\n",
       "      <td>53</td>\n",
       "    </tr>\n",
       "    <tr>\n",
       "      <th>1</th>\n",
       "      <td>0.098889</td>\n",
       "      <td>14</td>\n",
       "      <td>25</td>\n",
       "    </tr>\n",
       "    <tr>\n",
       "      <th>4</th>\n",
       "      <td>0.100147</td>\n",
       "      <td>54</td>\n",
       "      <td>64</td>\n",
       "    </tr>\n",
       "    <tr>\n",
       "      <th>0</th>\n",
       "      <td>0.350930</td>\n",
       "      <td>65</td>\n",
       "      <td>80</td>\n",
       "    </tr>\n",
       "  </tbody>\n",
       "</table>\n",
       "</div>"
      ],
      "text/plain": [
       "                    AvgMortality  MinAge  MaxAge\n",
       "predicted_clusters                              \n",
       "5                       0.000000      31      42\n",
       "3                       0.000333       0      12\n",
       "2                       0.032703      43      53\n",
       "1                       0.098889      14      25\n",
       "4                       0.100147      54      64\n",
       "0                       0.350930      65      80"
      ]
     },
     "execution_count": 63,
     "metadata": {},
     "output_type": "execute_result"
    }
   ],
   "source": [
    "results.sort_values(by=['AvgMortality']) #vaccine recommendations? Why ages 12-25 higher mortality? \n",
    "# possible mental illness and also socializing via covid parties etc... "
   ]
  },
  {
   "cell_type": "code",
   "execution_count": null,
   "id": "multiple-anthony",
   "metadata": {},
   "outputs": [],
   "source": []
  },
  {
   "cell_type": "code",
   "execution_count": null,
   "id": "harmful-maintenance",
   "metadata": {},
   "outputs": [],
   "source": []
  },
  {
   "cell_type": "code",
   "execution_count": null,
   "id": "motivated-multiple",
   "metadata": {},
   "outputs": [],
   "source": []
  },
  {
   "cell_type": "code",
   "execution_count": null,
   "id": "running-wright",
   "metadata": {},
   "outputs": [],
   "source": [
    "predicted_clusters = kmeans.predict(X)\n",
    "predicted_clusters"
   ]
  },
  {
   "cell_type": "code",
   "execution_count": null,
   "id": "systematic-static",
   "metadata": {},
   "outputs": [],
   "source": [
    "plt.scatter(X,predicted_clusters)\n",
    "plt.xlabel('Age')\n",
    "plt.ylabel('Cluster')"
   ]
  },
  {
   "cell_type": "code",
   "execution_count": null,
   "id": "boolean-sleeve",
   "metadata": {},
   "outputs": [],
   "source": [
    "[predicted_clusters, y]\n",
    "plt.scatter(predicted_clusters, y)\n",
    "#clusters 0, 1, 4 have high mortality risk \n",
    "#so if user inputs age in cluster 0,1,4 \n",
    "# then, output will be high risk "
   ]
  },
  {
   "cell_type": "code",
   "execution_count": null,
   "id": "sudden-marina",
   "metadata": {},
   "outputs": [],
   "source": []
  },
  {
   "cell_type": "code",
   "execution_count": null,
   "id": "differential-arrow",
   "metadata": {},
   "outputs": [],
   "source": [
    "pandas.DataFrame"
   ]
  },
  {
   "cell_type": "code",
   "execution_count": null,
   "id": "pleasant-adventure",
   "metadata": {},
   "outputs": [],
   "source": [
    "y_test"
   ]
  },
  {
   "cell_type": "code",
   "execution_count": null,
   "id": "previous-given",
   "metadata": {},
   "outputs": [],
   "source": [
    "cluster_df = pd.DataFrame(X_test['Mean Age'])\n"
   ]
  },
  {
   "cell_type": "code",
   "execution_count": null,
   "id": "incoming-yahoo",
   "metadata": {},
   "outputs": [],
   "source": [
    "cluster_df['labels']= labels\n"
   ]
  },
  {
   "cell_type": "code",
   "execution_count": null,
   "id": "native-scholar",
   "metadata": {},
   "outputs": [],
   "source": [
    "cluster_df['Mortality']= y_test\n",
    "cluster_df"
   ]
  },
  {
   "cell_type": "code",
   "execution_count": null,
   "id": "stable-corrections",
   "metadata": {},
   "outputs": [],
   "source": [
    "from sklearn.linear_model import LogisticRegression\n",
    "classifier = LogisticRegression(max_iter=500)\n",
    "classifier"
   ]
  },
  {
   "cell_type": "code",
   "execution_count": null,
   "id": "elementary-stylus",
   "metadata": {},
   "outputs": [],
   "source": [
    "labels=labels.reshape(-1,1)\n",
    "labels.shape"
   ]
  },
  {
   "cell_type": "code",
   "execution_count": null,
   "id": "regional-union",
   "metadata": {},
   "outputs": [],
   "source": [
    "cluster_df['Mortality']"
   ]
  },
  {
   "cell_type": "code",
   "execution_count": null,
   "id": "resident-greeting",
   "metadata": {},
   "outputs": [],
   "source": [
    "mortality_bin=[]\n",
    "for i in cluster_df['Mortality']:\n",
    "    if i>0.123: #using mean as value to discriminate between mortality of 1 or 0 \n",
    "        mortality_bin.append(1)\n",
    "    else:\n",
    "        mortality_bin.append(0)\n",
    "cluster_df['Mortality_bin']=mortality_bin"
   ]
  },
  {
   "cell_type": "code",
   "execution_count": null,
   "id": "inappropriate-calvin",
   "metadata": {},
   "outputs": [],
   "source": [
    "cluster_df\n"
   ]
  },
  {
   "cell_type": "code",
   "execution_count": null,
   "id": "worthy-prevention",
   "metadata": {},
   "outputs": [],
   "source": [
    "classifier.fit(labels, cluster_df['Mortality_bin'])"
   ]
  },
  {
   "cell_type": "code",
   "execution_count": null,
   "id": "conceptual-petroleum",
   "metadata": {},
   "outputs": [],
   "source": [
    "new_data = [1,0]\n",
    "predictions = classifier.predict(new_data)"
   ]
  },
  {
   "cell_type": "code",
   "execution_count": null,
   "id": "grave-volume",
   "metadata": {},
   "outputs": [],
   "source": [
    "# columns = ['Unnamed: 0', \"ID\",\"Country\",\"Province/State\", \"Study Pop Size (N)\",\n",
    "# \"Positive/negative cases\", \"AgeGroup_pediatrics\", \"AgeGroup_youngAdult\",\n",
    "# \"AgeGroup_aging\",'Mortality_bin']\n",
    "# df = df.drop(columns=columns)\n"
   ]
  },
  {
   "cell_type": "code",
   "execution_count": null,
   "id": "lyric-climate",
   "metadata": {},
   "outputs": [],
   "source": [
    "# columns = ['White or European', \"African American\",\"Asian\",\"Hispanic or Latino\", \"Multiple ethnicities or other\"]\n",
    "# df = df.drop(columns=columns)\n"
   ]
  },
  {
   "cell_type": "code",
   "execution_count": null,
   "id": "grave-device",
   "metadata": {},
   "outputs": [],
   "source": [
    "X = df.drop(\"Mortality\", axis=1)\n",
    "y = df[\"Mortality\"]\n",
    "print(X.shape, y.shape)"
   ]
  },
  {
   "cell_type": "code",
   "execution_count": null,
   "id": "living-causing",
   "metadata": {},
   "outputs": [],
   "source": [
    "from sklearn.model_selection import train_test_split\n",
    "from sklearn.preprocessing import LabelEncoder, MinMaxScaler\n",
    "from tensorflow.keras.utils import to_categorical\n"
   ]
  },
  {
   "cell_type": "code",
   "execution_count": null,
   "id": "proved-values",
   "metadata": {},
   "outputs": [],
   "source": [
    "X_train, X_test, y_train, y_test = train_test_split(X, y, random_state=1)\n",
    "X_train.shape"
   ]
  },
  {
   "cell_type": "code",
   "execution_count": null,
   "id": "portable-congo",
   "metadata": {},
   "outputs": [],
   "source": [
    "from sklearn.preprocessing import StandardScaler\n",
    "X_scaler = StandardScaler().fit(X_train)\n",
    "X_train_scaled = X_scaler.transform(X_train)\n",
    "X_test_scaled = X_scaler.transform(X_test)\n"
   ]
  },
  {
   "cell_type": "code",
   "execution_count": null,
   "id": "filled-canyon",
   "metadata": {},
   "outputs": [],
   "source": [
    "y_train_categorical = to_categorical(y_train)\n",
    "y_test_categorical = to_categorical(y_test)\n",
    "y_train_categorical\n"
   ]
  },
  {
   "cell_type": "code",
   "execution_count": null,
   "id": "small-thumb",
   "metadata": {},
   "outputs": [],
   "source": [
    "import tensorflow as tf\n",
    "from tensorflow.keras.models import Sequential\n",
    "from tensorflow.keras.utils import to_categorical\n",
    "from tensorflow.keras.layers import Dense\n",
    "\n",
    "model = Sequential()"
   ]
  },
  {
   "cell_type": "code",
   "execution_count": null,
   "id": "relative-tower",
   "metadata": {},
   "outputs": [],
   "source": [
    "number_inputs = 29\n",
    "number_hidden_nodes = 50\n",
    "hidden_layer = Dense(units=number_hidden_nodes,\n",
    "                activation='relu', input_dim=number_inputs) \n",
    "model.add(hidden_layer)"
   ]
  },
  {
   "cell_type": "code",
   "execution_count": null,
   "id": "editorial-yahoo",
   "metadata": {
    "scrolled": true
   },
   "outputs": [],
   "source": [
    "number_classes = 2\n",
    "model.add(Dense(units=number_classes, activation='softmax'))\n",
    "model.summary()"
   ]
  },
  {
   "cell_type": "code",
   "execution_count": null,
   "id": "aggressive-bathroom",
   "metadata": {},
   "outputs": [],
   "source": [
    "model.compile(loss=\"categorical_crossentropy\",\n",
    "              optimizer=\"adam\", metrics=['accuracy'])\n"
   ]
  },
  {
   "cell_type": "code",
   "execution_count": null,
   "id": "useful-rings",
   "metadata": {},
   "outputs": [],
   "source": [
    "model.fit(\n",
    "    X_train_scaled,\n",
    "    y_train_categorical,\n",
    "    epochs=100,\n",
    "    shuffle=True,\n",
    "    verbose=2\n",
    ")\n"
   ]
  },
  {
   "cell_type": "code",
   "execution_count": null,
   "id": "billion-analyst",
   "metadata": {},
   "outputs": [],
   "source": [
    "# model_loss, model_accuracy = model.evaluate(X_test, y_test, verbose=2)\n",
    "# print(f\"Loss: {model_loss}, Accuracy: {model_accuracy}\")\n"
   ]
  },
  {
   "cell_type": "code",
   "execution_count": null,
   "id": "velvet-wealth",
   "metadata": {},
   "outputs": [],
   "source": []
  },
  {
   "cell_type": "code",
   "execution_count": null,
   "id": "congressional-deficit",
   "metadata": {},
   "outputs": [],
   "source": []
  },
  {
   "cell_type": "code",
   "execution_count": null,
   "id": "unsigned-recall",
   "metadata": {},
   "outputs": [],
   "source": []
  },
  {
   "cell_type": "code",
   "execution_count": null,
   "id": "lonely-broadcasting",
   "metadata": {},
   "outputs": [],
   "source": []
  },
  {
   "cell_type": "code",
   "execution_count": null,
   "id": "removable-access",
   "metadata": {},
   "outputs": [],
   "source": []
  },
  {
   "cell_type": "code",
   "execution_count": null,
   "id": "opposite-reason",
   "metadata": {},
   "outputs": [],
   "source": []
  },
  {
   "cell_type": "code",
   "execution_count": null,
   "id": "indirect-optimization",
   "metadata": {},
   "outputs": [],
   "source": [
    "# grabbing all columns \n",
    "my_list = df.columns.values.tolist()\n",
    "my_list;"
   ]
  },
  {
   "cell_type": "code",
   "execution_count": null,
   "id": "established-eligibility",
   "metadata": {},
   "outputs": [],
   "source": []
  },
  {
   "cell_type": "code",
   "execution_count": null,
   "id": "angry-audio",
   "metadata": {},
   "outputs": [],
   "source": []
  },
  {
   "cell_type": "code",
   "execution_count": null,
   "id": "compliant-scottish",
   "metadata": {},
   "outputs": [],
   "source": [
    "\n"
   ]
  },
  {
   "cell_type": "code",
   "execution_count": null,
   "id": "median-samoa",
   "metadata": {},
   "outputs": [],
   "source": []
  },
  {
   "cell_type": "code",
   "execution_count": null,
   "id": "flush-filling",
   "metadata": {},
   "outputs": [],
   "source": []
  },
  {
   "cell_type": "code",
   "execution_count": null,
   "id": "prepared-sight",
   "metadata": {},
   "outputs": [],
   "source": []
  },
  {
   "cell_type": "code",
   "execution_count": null,
   "id": "figured-semester",
   "metadata": {},
   "outputs": [],
   "source": []
  },
  {
   "cell_type": "code",
   "execution_count": null,
   "id": "light-toolbox",
   "metadata": {},
   "outputs": [],
   "source": []
  },
  {
   "cell_type": "code",
   "execution_count": null,
   "id": "sudden-breast",
   "metadata": {},
   "outputs": [],
   "source": [
    "\n"
   ]
  },
  {
   "cell_type": "code",
   "execution_count": null,
   "id": "authentic-recovery",
   "metadata": {},
   "outputs": [],
   "source": [
    "# How to use labels for classification? "
   ]
  },
  {
   "cell_type": "code",
   "execution_count": null,
   "id": "retired-indication",
   "metadata": {},
   "outputs": [],
   "source": []
  },
  {
   "cell_type": "code",
   "execution_count": null,
   "id": "brazilian-auction",
   "metadata": {},
   "outputs": [],
   "source": []
  },
  {
   "cell_type": "markdown",
   "id": "industrial-fiction",
   "metadata": {},
   "source": [
    "Machine Learning\n"
   ]
  },
  {
   "cell_type": "code",
   "execution_count": null,
   "id": "young-denver",
   "metadata": {},
   "outputs": [],
   "source": [
    "age = df[['AgeGroup_pediatrics','AgeGroup_youngAdult','AgeGroup_aging','Mortality_bin']]\n",
    "age"
   ]
  },
  {
   "cell_type": "code",
   "execution_count": null,
   "id": "taken-values",
   "metadata": {},
   "outputs": [],
   "source": [
    "X = age[['AgeGroup_pediatrics','AgeGroup_youngAdult','AgeGroup_aging']]\n",
    "y= age['Mortality_bin']"
   ]
  },
  {
   "cell_type": "code",
   "execution_count": null,
   "id": "basic-cutting",
   "metadata": {},
   "outputs": [],
   "source": [
    "from sklearn.model_selection import train_test_split\n",
    "X_train, X_test, y_train, y_test = train_test_split(X, y, random_state=1)"
   ]
  },
  {
   "cell_type": "code",
   "execution_count": null,
   "id": "sophisticated-storage",
   "metadata": {},
   "outputs": [],
   "source": [
    "target = age[\"Mortality_bin\"]\n",
    "target_names = [\"no risk\", \"risk\"]\n",
    "\n",
    "data = age.drop(\"Mortality_bin\", axis=1)\n",
    "feature_names = data.columns\n"
   ]
  },
  {
   "cell_type": "code",
   "execution_count": null,
   "id": "final-miniature",
   "metadata": {},
   "outputs": [],
   "source": []
  },
  {
   "cell_type": "code",
   "execution_count": null,
   "id": "final-reviewer",
   "metadata": {},
   "outputs": [],
   "source": []
  },
  {
   "cell_type": "code",
   "execution_count": null,
   "id": "casual-order",
   "metadata": {},
   "outputs": [],
   "source": [
    "train_scores = []\n",
    "test_scores = []\n",
    "for k in range(1, 20, 2):\n",
    "    knn = KNeighborsClassifier(n_neighbors=k)\n",
    "    knn.fit(X_train, y_train)\n",
    "    train_score = knn.score(X_train, y_train)\n",
    "    test_score = knn.score(X_test, y_test)\n",
    "    train_scores.append(train_score)\n",
    "    test_scores.append(test_score)\n",
    "    print(f\"k: {k}, Train/Test Score: {train_score:.3f}/{test_score:.3f}\")\n",
    "    \n",
    "    \n",
    "plt.plot(range(1, 20, 2), train_scores, marker='o')\n",
    "plt.plot(range(1, 20, 2), test_scores, marker=\"x\")\n",
    "plt.xlabel(\"k neighbors\")\n",
    "plt.ylabel(\"Testing accuracy Score\")\n",
    "plt.show()"
   ]
  },
  {
   "cell_type": "code",
   "execution_count": null,
   "id": "eligible-municipality",
   "metadata": {},
   "outputs": [],
   "source": [
    "knn = KNeighborsClassifier(n_neighbors=5)\n",
    "knn.fit(X_train, y_train)\n",
    "print('k=5 Test Acc: %.3f' % knn.score(X_test, y_test))"
   ]
  },
  {
   "cell_type": "code",
   "execution_count": null,
   "id": "fancy-conducting",
   "metadata": {},
   "outputs": [],
   "source": [
    "new_age_data = [[0, 1, 0]]\n",
    "predicted_class = knn.predict(new_age_data)\n",
    "print(predicted_class)"
   ]
  },
  {
   "cell_type": "code",
   "execution_count": null,
   "id": "measured-value",
   "metadata": {},
   "outputs": [],
   "source": [
    "#Fitting to Decision Tree\n",
    "clf = tree.DecisionTreeClassifier()\n",
    "clf = clf.fit(X_train, y_train)\n",
    "clf.score(X_test, y_test)"
   ]
  },
  {
   "cell_type": "code",
   "execution_count": null,
   "id": "exact-bennett",
   "metadata": {},
   "outputs": [],
   "source": [
    "#Fitting to Random Forest\n",
    "from sklearn.ensemble import RandomForestClassifier\n",
    "rf = RandomForestClassifier(n_estimators=300)\n",
    "rf = rf.fit(X_train, y_train)\n",
    "rf.score(X_test, y_test)\n",
    "#Decision Tree and Random Forest gives same score "
   ]
  },
  {
   "cell_type": "code",
   "execution_count": null,
   "id": "destroyed-circle",
   "metadata": {},
   "outputs": [],
   "source": [
    "sorted(zip(rf.feature_importances_, feature_names), reverse=True)"
   ]
  },
  {
   "cell_type": "code",
   "execution_count": null,
   "id": "wrapped-houston",
   "metadata": {},
   "outputs": [],
   "source": [
    "# KNN- use later to figure out user input \n",
    "from sklearn.datasets import load_iris\n",
    "from sklearn.neighbors import KNeighborsClassifier\n",
    "iris = load_iris()\n",
    "\n"
   ]
  },
  {
   "cell_type": "code",
   "execution_count": null,
   "id": "shared-collect",
   "metadata": {},
   "outputs": [],
   "source": [
    "X=iris.data"
   ]
  },
  {
   "cell_type": "code",
   "execution_count": null,
   "id": "quality-evolution",
   "metadata": {},
   "outputs": [],
   "source": []
  },
  {
   "cell_type": "code",
   "execution_count": null,
   "id": "chicken-passion",
   "metadata": {},
   "outputs": [],
   "source": []
  },
  {
   "cell_type": "code",
   "execution_count": null,
   "id": "unavailable-graph",
   "metadata": {},
   "outputs": [],
   "source": [
    "train_scores = []\n",
    "test_scores = []\n",
    "for k in range(1, 20, 2):\n",
    "    knn = KNeighborsClassifier(n_neighbors=k)\n",
    "    knn.fit(X_train, y_train)\n",
    "    train_score = knn.score(X_train, y_train)\n",
    "    test_score = knn.score(X_test, y_test)\n",
    "    train_scores.append(train_score)\n",
    "    test_scores.append(test_score)\n",
    "    print(f\"k: {k}, Train/Test Score: {train_score:.3f}/{test_score:.3f}\")\n"
   ]
  },
  {
   "cell_type": "code",
   "execution_count": null,
   "id": "alone-progressive",
   "metadata": {},
   "outputs": [],
   "source": [
    "knn = KNeighborsClassifier(n_neighbors=9)\n",
    "knn.fit(X_train_scaled, y_train)\n",
    "print('k=2 Test Acc: %.3f' % knn.score(X_test_scaled, y_test))\n"
   ]
  },
  {
   "cell_type": "code",
   "execution_count": null,
   "id": "cutting-cleaners",
   "metadata": {},
   "outputs": [],
   "source": []
  }
 ],
 "metadata": {
  "kernelspec": {
   "display_name": "Python 3",
   "language": "python",
   "name": "python3"
  },
  "language_info": {
   "codemirror_mode": {
    "name": "ipython",
    "version": 3
   },
   "file_extension": ".py",
   "mimetype": "text/x-python",
   "name": "python",
   "nbconvert_exporter": "python",
   "pygments_lexer": "ipython3",
   "version": "3.8.5"
  }
 },
 "nbformat": 4,
 "nbformat_minor": 5
}
